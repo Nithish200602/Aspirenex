{
  "nbformat": 4,
  "nbformat_minor": 0,
  "metadata": {
    "colab": {
      "provenance": []
    },
    "kernelspec": {
      "name": "python3",
      "display_name": "Python 3"
    },
    "language_info": {
      "name": "python"
    }
  },
  "cells": [
    {
      "cell_type": "code",
      "execution_count": null,
      "metadata": {
        "id": "OGBSwmyz-ADs"
      },
      "outputs": [],
      "source": [
        "# Sample data: movie ratings by users\n",
        "ratings = {\n",
        "    'Alice': {'Star Wars': 5, 'Inception': 4, 'Joker': 1},\n",
        "    'Bob': {'Star Wars': 4, 'Inception': 5, 'Joker': 2},\n",
        "    'Charlie': {'Star Wars': 5, 'Inception': 2, 'Joker': 4},\n",
        "    'David': {'Star Wars': 3, 'Inception': 5}\n",
        "}\n"
      ]
    },
    {
      "cell_type": "code",
      "source": [
        "from math import sqrt\n",
        "\n",
        "def cosine_similarity(user1, user2, ratings):\n",
        "    common_movies = [movie for movie in ratings[user1] if movie in ratings[user2]]\n",
        "\n",
        "    numerator = sum(ratings[user1][movie] * ratings[user2][movie] for movie in common_movies)\n",
        "\n",
        "    sum1 = sum(ratings[user1][movie] ** 2 for movie in ratings[user1])\n",
        "    sum2 = sum(ratings[user2][movie] ** 2 for movie in ratings[user2])\n",
        "    denominator = sqrt(sum1) * sqrt(sum2)\n",
        "\n",
        "    if denominator == 0:\n",
        "        return 0\n",
        "    else:\n",
        "        return numerator / denominator\n"
      ],
      "metadata": {
        "id": "XKkGyoG6-OIs"
      },
      "execution_count": null,
      "outputs": []
    },
    {
      "cell_type": "code",
      "source": [
        "def recommend_movies(user, ratings):\n",
        "    # Find similarity scores between the given user and all other users\n",
        "    similarities = [(cosine_similarity(user, other_user, ratings), other_user) for other_user in ratings if other_user != user]\n",
        "\n",
        "    similarities.sort(reverse=True)  # Sort by descending similarity score\n",
        "\n",
        "    recommendations = {}\n",
        "\n",
        "    for similarity, other_user in similarities:\n",
        "        for movie in ratings[other_user]:\n",
        "            if movie not in ratings[user]:\n",
        "                if movie not in recommendations:\n",
        "                    recommendations[movie] = 0\n",
        "                recommendations[movie] += ratings[other_user][movie] * similarity\n",
        "\n",
        "    # Convert recommendations to a sorted list\n",
        "    recommendations = sorted(recommendations.items(), key=lambda x: x[1], reverse=True)\n",
        "\n",
        "    return recommendations\n"
      ],
      "metadata": {
        "id": "8lwgY7YY-VX7"
      },
      "execution_count": null,
      "outputs": []
    },
    {
      "cell_type": "code",
      "source": [
        "user = 'David'\n",
        "print(f\"Recommendations for {user}:\")\n",
        "recommendations = recommend_movies(user, ratings)\n",
        "for movie, score in recommendations:\n",
        "    print(f\"{movie}: {score}\")\n"
      ],
      "metadata": {
        "colab": {
          "base_uri": "https://localhost:8080/"
        },
        "id": "dPAA46Wk-5fD",
        "outputId": "e243d982-178d-4cab-f9e3-f308f0388299"
      },
      "execution_count": null,
      "outputs": [
        {
          "output_type": "stream",
          "name": "stdout",
          "text": [
            "Recommendations for David:\n",
            "Joker: 5.374595152358434\n"
          ]
        }
      ]
    }
  ]
}