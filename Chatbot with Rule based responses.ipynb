{
  "nbformat": 4,
  "nbformat_minor": 0,
  "metadata": {
    "colab": {
      "provenance": []
    },
    "kernelspec": {
      "name": "python3",
      "display_name": "Python 3"
    },
    "language_info": {
      "name": "python"
    }
  },
  "cells": [
    {
      "cell_type": "code",
      "source": [
        "import random\n",
        "\n",
        "# Define a function to get a response from the bot\n",
        "def get_response(user_input):\n",
        "    # Convert user input to lowercase for case-insensitive matching\n",
        "    user_input = user_input.lower()\n",
        "\n",
        "    # Define some basic rules and responses\n",
        "    responses = {\n",
        "        'hello': 'Hello! How can I help you?',\n",
        "        'hi': 'Hi there! What can I do for you?',\n",
        "        'how are you': 'I am just a bot and don\\'t have feelings, but thanks for asking!',\n",
        "        'bye': 'Goodbye! Have a nice day.',\n",
        "        'thank you': 'You\\'re welcome!',\n",
        "        'default': 'I\\'m sorry, I didn\\'t understand that.'\n",
        "    }\n",
        "\n",
        "    # Check for specific user inputs and provide corresponding responses\n",
        "    if user_input in responses:\n",
        "        return responses[user_input]\n",
        "    elif 'help' in user_input:\n",
        "        return 'Sure, I can help. What do you need assistance with?'\n",
        "    elif 'order' in user_input or 'buy' in user_input:\n",
        "        return 'Please visit our website to place an order.'\n",
        "    elif 'information' in user_input or 'info' in user_input:\n",
        "        return 'You can find more information on our website.'\n",
        "    else:\n",
        "        return responses['default']\n",
        "\n",
        "# Main function to run the chatbot\n",
        "def main():\n",
        "    print(\"Welcome to the Rule-Based Chatbot!\")\n",
        "    print(\"You can start chatting with the bot. Type 'bye' to exit.\")\n",
        "\n",
        "    while True:\n",
        "        user_input = input(\"You: \")\n",
        "        if user_input.lower() == 'bye':\n",
        "            print(\"Bot: Goodbye!\")\n",
        "            break\n",
        "\n",
        "        response = get_response(user_input)\n",
        "        print(\"Bot:\", response)\n",
        "\n",
        "if __name__ == \"__main__\":\n",
        "    main()\n"
      ],
      "metadata": {
        "colab": {
          "base_uri": "https://localhost:8080/"
        },
        "id": "NLqjQE0mVcD-",
        "outputId": "829019e2-51c6-4d50-c4c2-39be29cc4b27"
      },
      "execution_count": 3,
      "outputs": [
        {
          "output_type": "stream",
          "name": "stdout",
          "text": [
            "Welcome to the Rule-Based Chatbot!\n",
            "You can start chatting with the bot. Type 'bye' to exit.\n",
            "You: hi\n",
            "Bot: Hi there! What can I do for you?\n",
            "You: bye\n",
            "Bot: Goodbye!\n"
          ]
        }
      ]
    }
  ]
}